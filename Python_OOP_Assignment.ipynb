{
 "cells": [
  {
   "cell_type": "markdown",
   "id": "bbc01923",
   "metadata": {},
   "source": [
    "## Python OOP Assignment"
   ]
  },
  {
   "cell_type": "markdown",
   "id": "62651495",
   "metadata": {},
   "source": [
    "Q1. What is the purpose of Python's OOP?\n",
    "\n",
    "A1. It aims to implement real-world entities like inheritance, polymorphisms, encapsulation, etc. in the programming. The main concept of OOPs is to bind the data and the functions together as a single unit so that no other part of the code can access this data."
   ]
  },
  {
   "cell_type": "markdown",
   "id": "de544fa3",
   "metadata": {},
   "source": [
    "Q2. Where does an inheritance search look for an attribute?\n",
    "\n",
    "A2. An inheritance search looks for an attribute first in the instance object, then in the class the instance was created from, then in all higher superclasses. The search stops at the first place the attribute is found."
   ]
  },
  {
   "cell_type": "markdown",
   "id": "e9802391",
   "metadata": {},
   "source": [
    "Q3. How do you distinguish between a class object and an instance object?\n",
    "\n",
    "A3. Class object is a concrete thing that you constructed using a certain class, which is an instance of a class. Instance is an object that belongs to a class. So, while the terms 'object' and 'instance' are interchangeable, the term 'instance' refers to an object's relationship to its class."
   ]
  },
  {
   "cell_type": "markdown",
   "id": "57a1a6d5",
   "metadata": {},
   "source": [
    "Q4. What makes the first argument in a class’s method function special?\n",
    "\n",
    "A4. The first argument of a method is called self. self represents the instance of the class. By using the “self” we can access the attributes and methods of the class in python. It binds the attributes with the given arguments."
   ]
  },
  {
   "cell_type": "markdown",
   "id": "0b330593",
   "metadata": {},
   "source": [
    "Q5. What is the purpose of the init method?\n",
    "\n",
    "A5. The init method is called the costructor which lets the class initialize the object's attributes."
   ]
  },
  {
   "cell_type": "markdown",
   "id": "68e2de83",
   "metadata": {},
   "source": [
    "Q6. What is the process for creating a class instance?\n",
    "\n",
    "A6. To create instances of a class, we need to call the class using the class name and pass in whatever arguments are there in its init method."
   ]
  },
  {
   "cell_type": "markdown",
   "id": "e7ba7f52",
   "metadata": {},
   "source": [
    "Q7. What is the process for creating a class?\n",
    "\n",
    "A7. In Python, a class can be created by using the keyword class, followed by the class name, the class name starting with a capital letter. The syntax to create a class is:\n",
    "\n",
    "class ClassName:    \n",
    "    #statements"
   ]
  },
  {
   "cell_type": "markdown",
   "id": "13c50d63",
   "metadata": {},
   "source": [
    "Q8. How would you define the superclasses of a class?\n",
    "\n",
    "A8. A class from which other classes inherit code is called a superclass. Furthermore, the class that inherits the code is called a subclass of that superclass."
   ]
  },
  {
   "cell_type": "markdown",
   "id": "cff5fb09",
   "metadata": {},
   "source": [
    "Q9. What is the relationship between classes and modules?\n",
    "\n",
    "A9. class is used to define a blueprint for a given object,and a module is used to reuse a given piece of code inside another program. We can define a class inside a python file. Then, we can create another python file where, we will import the module(the class inside the previous python file) using the import statement."
   ]
  },
  {
   "cell_type": "markdown",
   "id": "44b5d8b5",
   "metadata": {},
   "source": [
    "Q10. How do you make instances and classes?\n",
    "\n",
    "A10. To create instances of a class, we need to call the class using the class name and pass in whatever arguments are there in its init method. We can make classes by using the keyword class, followed by the class name.\n",
    "\n",
    "class ClassName:    \n",
    "    #statements\n",
    "\n",
    "instance= ClassName()"
   ]
  },
  {
   "cell_type": "markdown",
   "id": "c6fa1dcb",
   "metadata": {},
   "source": [
    "Q11. Where and how should be class attributes created?\n",
    "\n",
    "A11. The class attributes don’t associate with any specific instance of the class. But they’re shared by all instances of the class. To define a class attribute, we place it outside of the __init__() method.\n",
    "\n",
    "class ClassName:\n",
    "\n",
    "    attr = 100\n",
    "    def __init__(self):\n",
    "        # statements"
   ]
  },
  {
   "cell_type": "markdown",
   "id": "674414ca",
   "metadata": {},
   "source": [
    "Q12. Where and how are instance attributes created?\n",
    "\n",
    "A12. Instance attributes ae defined inside a constructor using the self parameter.\n",
    "\n",
    "class ClassName:\n",
    "\n",
    "    def __init__(self, attr):\n",
    "        # statements"
   ]
  },
  {
   "cell_type": "markdown",
   "id": "b1f91b99",
   "metadata": {},
   "source": [
    "Q13. What does the term \"self\" in a Python class mean?\n",
    "\n",
    "A13. The self parameter is a reference to the current instance of the class, and is used to access variables that belongs to the class."
   ]
  },
  {
   "cell_type": "markdown",
   "id": "27cc80bb",
   "metadata": {},
   "source": [
    "Q14. How does a Python class handle operator overloading?\n",
    "\n",
    "A14. In Python, overloading is achieved by overriding the method which is specifically for that operator, in the user-defined class. And based on the type of operand passed to the operator, calculation is performed for that. "
   ]
  },
  {
   "cell_type": "markdown",
   "id": "26034990",
   "metadata": {},
   "source": [
    "Q15. When do you consider allowing operator overloading of your classes?\n",
    "\n",
    "A15. Considering we have two objects which are a physical representation of a class and we have to add two objects with binary '+' operator, but the compiler don't know how to add two objects. There we can consider allowing operator overloading."
   ]
  },
  {
   "cell_type": "markdown",
   "id": "ca2809ed",
   "metadata": {},
   "source": [
    "Q16. What is the most popular form of operator overloading?\n",
    "\n",
    "A16. The most popular form of operator overloading is Binary Operators overloading."
   ]
  },
  {
   "cell_type": "markdown",
   "id": "1566a29d",
   "metadata": {},
   "source": [
    "Q17. What are the two most important concepts to grasp in order to comprehend Python OOP code?\n",
    "\n",
    "A17. Inheritance and polymorphism are very important concepts of object oriented programming in Python."
   ]
  },
  {
   "cell_type": "markdown",
   "id": "731a23d9",
   "metadata": {},
   "source": [
    "Q18. Describe three applications for exception processing.\n",
    "\n",
    "A18. Three applications can be :\n",
    "\n",
    "    1. Handling situation when the interpreter encounters a syntax error in the code, such as a misspelled keyword, a missing colon, or an unbalanced parenthesis.\n",
    "    \n",
    "    2. Handling situation when an operation or function is applied to an object of the wrong type, such as adding a string to an integer.\n",
    "    \n",
    "    3. Handling situation when an index is out of range for a list, tuple, or other sequence types."
   ]
  },
  {
   "cell_type": "markdown",
   "id": "0127ea14",
   "metadata": {},
   "source": [
    "Q19. What happens if you don't do something extra to treat an exception?\n",
    "\n",
    "A19.When an exception occurred, if we don't handle it, the program terminates abruptly and the code past the line that caused the exception will not get executed."
   ]
  },
  {
   "cell_type": "markdown",
   "id": "dfd00b05",
   "metadata": {},
   "source": [
    "Q20. What are your options for recovering from an exception in your script?\n",
    "\n",
    "A20. Python provides two very important features to handle any unexpected errors or exceptions in our script:\n",
    "\n",
    "    Exception Handling: It allows us to separate error-handling code from normal code.\n",
    "\n",
    "    Assertions: An assertion is a sanity-check that we can turn on or turn off when we are done with our testing of the program."
   ]
  },
  {
   "cell_type": "markdown",
   "id": "8a916ca1",
   "metadata": {},
   "source": [
    "Q21. Describe two methods for triggering exceptions in your script.\n",
    "\n",
    "A21. Two methods for triggering exceptions:\n",
    "\n",
    "    Try- This method catches the exceptions raised by the program.\n",
    "    Raise – Triggers an exception manually using custom exceptions."
   ]
  },
  {
   "cell_type": "markdown",
   "id": "65db3eda",
   "metadata": {},
   "source": [
    "Q22. Identify two methods for specifying actions to be executed at termination time, regardless of\n",
    "whether or not an exception exists.\n",
    "\n",
    "A22. Two methods for specifying actions to be executed regardless of whether or not an exception exists:\n",
    "\n",
    "    Finally: Finally block always executes irrespective of an exception being thrown or not. The final keyword allows you to create a block of code that follows a try-catch block.\n",
    "    Raise: The raise statement specifies an argument which initializes the exception object."
   ]
  },
  {
   "cell_type": "markdown",
   "id": "6ba9d01c",
   "metadata": {},
   "source": [
    "Q23. What is the purpose of the try statement?\n",
    "\n",
    "A23. The try statement allows you to define a block of code to be tested for errors while it is being executed."
   ]
  },
  {
   "cell_type": "markdown",
   "id": "9736c0e5",
   "metadata": {},
   "source": [
    "Q24. What are the two most popular try statement variations?\n",
    "\n",
    "A24. Popular try statement variations are:\n",
    "\n",
    "    try: except:\n",
    "    try: except:{try: except:}"
   ]
  },
  {
   "cell_type": "markdown",
   "id": "88aee73d",
   "metadata": {},
   "source": [
    "Q25. What is the purpose of the raise statement?\n",
    "\n",
    "A25. The raise statement allows us to raise an exception at our will. We can define both the type of error and the text that prints to the user. Note that the argument to raise must either be an exception instance or a subclass deriving from exception."
   ]
  },
  {
   "cell_type": "markdown",
   "id": "f3cb047c",
   "metadata": {},
   "source": [
    "Q26. What does the assert statement do, and what other statement is it like?\n",
    "\n",
    "A26. The assert keyword is used when debugging code. The assert keyword lets us test if a condition in your code returns True, if not, the program will raise an AssertionError. We can write a message to be written if the code returns False."
   ]
  },
  {
   "cell_type": "markdown",
   "id": "7208445e",
   "metadata": {},
   "source": [
    "Q27. What is the purpose of the with/as argument, and what other statement is it like?\n",
    "\n",
    "A27. A common purpose of using the with statement is opening a file. To open and write to a file in Python, you can use the with statement.The \"as\" statement is accompanied with the \"with\" statement to create an instance of the file. The with statement automatically closes the file after you’ve completed writing it. The with statement is a replacement for commonly used try/finally error-handling statements."
   ]
  },
  {
   "cell_type": "markdown",
   "id": "99cca4d9",
   "metadata": {},
   "source": [
    "Q28. What are *args, **kwargs?\n",
    "\n",
    "A28. The args stands for arguments that are passed to the function. The special syntax *args in Python function is used to pass a variable number of arguments to a function. It is used to pass a non-keyworded, variable-length argument list. whereas kwargs stands for keyword arguments which are passed along with the values into the function. The special syntax **kwargs in Python function is used to pass a keyworded, variable-length argument list. We use the name kwargs with the double star. The reason is that the double star allows us to pass through keyword arguments."
   ]
  },
  {
   "cell_type": "markdown",
   "id": "6568084c",
   "metadata": {},
   "source": [
    "Q29. How can I pass optional or keyword parameters from one function to another?\n",
    "\n",
    "A29. To pass ptional or keyword parameters from one function to another, collect the arguments using the * and ** in the function’s parameter list. Through this, we will get the positional arguments as a tuple and the keyword arguments as a dictionary. Pass these arguments when calling another function by using * and **"
   ]
  },
  {
   "cell_type": "markdown",
   "id": "9228244d",
   "metadata": {},
   "source": [
    "Q30. What are Lambda Functions?\n",
    "\n",
    "A30. lambda is a keyword in Python for defining the anonymous function. Lambda functions are intended as a shorthand for defining functions that can come in handy to write concise code without wasting multiple lines defining a function."
   ]
  },
  {
   "cell_type": "markdown",
   "id": "5aef8288",
   "metadata": {},
   "source": [
    "Q31. Explain Inheritance in Python with an example?\n",
    "\n",
    "A31.Just like a parent-child relationship, inheritance works on derived classes relative to the base class. Every “Derived” class inherits from a “Base” class. Inheritance relationship defines the classes that inherit from other classes as derived, subclass, or sub-type classes. Base class remains to be the source from which a subclass inherits. For example, you have a Base class of “Animal,” and a “Lion” is a Derived class. The inheritance will be Lion is an Animal.\n",
    "\n",
    "E.g:\n",
    "\n",
    "\\# Super class\n",
    "\n",
    "class Country:\n",
    "\n",
    "     def ShowCountry(self):\n",
    "\n",
    "         print(“This is Country”)\n",
    "\n",
    "\\# Inheriting from Super class\n",
    "\n",
    "class State(Country):\n",
    "\n",
    "     def ShowState(self):\n",
    "\n",
    "         print(“This is State”)"
   ]
  },
  {
   "cell_type": "markdown",
   "id": "abaeac4d",
   "metadata": {},
   "source": [
    "Q32. Suppose class C inherits from classes A and B as class C(A,B).Classes A and B both have their own versions of method func(). If we call func() from an object of class C, which version gets invoked?\n",
    "\n",
    "A32. The version of func() that will be invoked is from the class defined first in the inheritance statement of the Sub class. In this case func() from class A, as it is defined before class B inside C(A,B)."
   ]
  },
  {
   "cell_type": "markdown",
   "id": "c3c83729",
   "metadata": {},
   "source": [
    "Q33. Which methods/functions do we use to determine the type of instance and inheritance?\n",
    "\n",
    "A33. The isinstance() function checks whether the object is an instance of the specified class type or data type. For example, isinstance(name, str) checks if name is an instance of a class str. \n",
    "\n",
    "issubclass() is a function used to check for inheritance i.e if a class is a subclass of another class or not. This function returns True if the given class is the subclass of given class else it returns False. E.g issubclass(Car, Vehicles) will return True if Vehicles is a sub class of clas Car, else returns False."
   ]
  },
  {
   "cell_type": "markdown",
   "id": "590d2324",
   "metadata": {},
   "source": [
    "Q34.Explain the use of the 'nonlocal' keyword in Python.\n",
    "\n",
    "A34. The nonlocal keyword is used to work with variables inside nested functions to reference a variable in the parent function. Use the keyword nonlocal to declare that the variable is not local. The nonlocal keyword won’t work on local or global variables and therefore must be used to reference variables in another scope except the global and local one."
   ]
  },
  {
   "cell_type": "markdown",
   "id": "1ec5bbc2",
   "metadata": {},
   "source": [
    "Q35. What is the global keyword?\n",
    "\n",
    "A35. Many a time we are required to declare a variable that is to be used for multiple times in our program. But its value can keep changing according to the situation and the function it is being used for. Hence, Python provides us a method to declare a variable globally, which can be accessed within class and functions, and the value of it can be changed only for that class or function respectively. Python global keyword is used to declare that variable in the program. A global keyword is a keyword that allows a user to modify a variable outside the current scope. It is used to create global variables in Python from a non-global scope, i.e. inside a function.\n",
    "\n",
    "E.g:\n",
    "\n",
    "c = 1 # global variable\n",
    "\n",
    "def function():\n",
    "\n",
    "    global c   # use of global keyword"
   ]
  },
  {
   "cell_type": "code",
   "execution_count": null,
   "id": "0bebd742",
   "metadata": {},
   "outputs": [],
   "source": []
  }
 ],
 "metadata": {
  "kernelspec": {
   "display_name": "Python 3 (ipykernel)",
   "language": "python",
   "name": "python3"
  },
  "language_info": {
   "codemirror_mode": {
    "name": "ipython",
    "version": 3
   },
   "file_extension": ".py",
   "mimetype": "text/x-python",
   "name": "python",
   "nbconvert_exporter": "python",
   "pygments_lexer": "ipython3",
   "version": "3.10.9"
  }
 },
 "nbformat": 4,
 "nbformat_minor": 5
}
