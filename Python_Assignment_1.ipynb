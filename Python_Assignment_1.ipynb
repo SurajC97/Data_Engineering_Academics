{
 "cells": [
  {
   "cell_type": "markdown",
   "id": "c92676d1",
   "metadata": {},
   "source": [
    "# Python Assignment 1"
   ]
  },
  {
   "cell_type": "markdown",
   "id": "3c38dc21",
   "metadata": {},
   "source": [
    "Q1. Why do we call Python as a general purpose and high-level programming language?\n",
    "\n",
    "A1. Python is called a general-purpose language as it can be used to create a variety of different programs and isn't specialized for any specific problems. And its called high level because of its beginner-friendliness and ease of understanding."
   ]
  },
  {
   "cell_type": "markdown",
   "id": "a12ef898",
   "metadata": {},
   "source": [
    "Q2. Why is Python called a dynamically typed language?\n",
    "\n",
    "A2. Dynamic typing means that the type of the variable is determined during runtime itself."
   ]
  },
  {
   "cell_type": "markdown",
   "id": "0c01311f",
   "metadata": {},
   "source": [
    "Q3. List some pros and cons of Python programming language?\n",
    "\n",
    "A3. \n",
    "\n",
    "Pros: Easy to use and implement, Large user base, High library support, Open soure\n",
    "\n",
    "   Cons: Slow speed of execution, High memory use, Absence of mobile environment"
   ]
  },
  {
   "cell_type": "markdown",
   "id": "31304e81",
   "metadata": {},
   "source": [
    "Q4. In what all domains can we use Python?\n",
    "\n",
    "A4. Data Science and Machine Learning,Graphic design, image processing applications, computational Applications,\n",
    "Web frameworks and applications,\n",
    "Database Access,\n",
    "Language Development,\n",
    "Prototyping,\n",
    "Software Development,\n",
    "Scripting."
   ]
  },
  {
   "cell_type": "markdown",
   "id": "ffc14cd2",
   "metadata": {},
   "source": [
    "Q5. What are variable and how can we declare them?\n",
    "\n",
    "A5. A variable is a name that is a reference to an object. Once an object is assigned to a variable, you can refer to the object by that variable name. We can define a variabe as: var= 50"
   ]
  },
  {
   "cell_type": "markdown",
   "id": "0b974187",
   "metadata": {},
   "source": [
    "Q6. How can we take an input from the user in Python?\n",
    "\n",
    "A5. By using input() function."
   ]
  },
  {
   "cell_type": "markdown",
   "id": "83b004b0",
   "metadata": {},
   "source": [
    "Q7. What is the default datatype of the value that has been taken as an input using input() function?\n",
    "\n",
    "A7. Datatype i Srting (str)."
   ]
  },
  {
   "cell_type": "markdown",
   "id": "ad5d1ec4",
   "metadata": {},
   "source": [
    "Q8. What is type casting?\n",
    "\n",
    "A8. Type casting is when you assign a value of one primitive data type to another data type."
   ]
  },
  {
   "cell_type": "markdown",
   "id": "a5decaf4",
   "metadata": {},
   "source": [
    "Q9. Can we take more than one input from the user using single input() function? If yes, how? If no, why?\n",
    "\n",
    "A9. yes, x, y, z = input(\"Enter three values split by comma: \").split(\",\")"
   ]
  },
  {
   "cell_type": "markdown",
   "id": "abdfdec7",
   "metadata": {},
   "source": [
    "Q10. What are keywords?\n",
    "\n",
    "A10. Python keywords are special reserved words that have specific meanings and purposes and can't be used for anything but those specific purposes."
   ]
  },
  {
   "cell_type": "markdown",
   "id": "354d6324",
   "metadata": {},
   "source": [
    "Q11. Can we use keywords as a variable? Support your answer with reason.\n",
    "\n",
    "A11. We can use but it will override the properties of the keyword."
   ]
  },
  {
   "cell_type": "markdown",
   "id": "0994534f",
   "metadata": {},
   "source": [
    "Q12. What is indentation? What's the use of indentaion in Python?\n",
    "\n",
    "A12. Indentation is the whitespace used in Python. Indentation is used to create block of statements."
   ]
  },
  {
   "cell_type": "markdown",
   "id": "5b91a647",
   "metadata": {},
   "source": [
    "Q13. How can we throw some output in Python?\n",
    "\n",
    "A13. By using print() function: print(output)"
   ]
  },
  {
   "cell_type": "markdown",
   "id": "bc9ad9df",
   "metadata": {},
   "source": [
    "Q14. What are operators in Python?\n",
    "\n",
    "A14. Keywords and signs used to perform certain operations on values or variable."
   ]
  },
  {
   "cell_type": "markdown",
   "id": "4a8a4995",
   "metadata": {},
   "source": [
    "Q15. What is difference between / and // operators?\n",
    "\n",
    "A15. / is used for division and result in float and // is used for division result in integer."
   ]
  },
  {
   "cell_type": "markdown",
   "id": "328a033c",
   "metadata": {},
   "source": [
    "Q16. Write a code that gives following as an output. iNeuroniNeuroniNeuroniNeuron"
   ]
  },
  {
   "cell_type": "code",
   "execution_count": 25,
   "id": "c71ba778",
   "metadata": {},
   "outputs": [
    {
     "data": {
      "text/plain": [
       "'iNeuroniNeuroniNeuron'"
      ]
     },
     "execution_count": 25,
     "metadata": {},
     "output_type": "execute_result"
    }
   ],
   "source": [
    "# A16. \n",
    "output= \"iNeuron\"*3\n",
    "output"
   ]
  },
  {
   "cell_type": "markdown",
   "id": "bc792ce7",
   "metadata": {},
   "source": [
    "Q17. Write a code to take a number as an input from the user and check if the number is odd or even."
   ]
  },
  {
   "cell_type": "code",
   "execution_count": 15,
   "id": "f6320936",
   "metadata": {},
   "outputs": [
    {
     "name": "stdout",
     "output_type": "stream",
     "text": [
      "Enter a number: 18\n",
      "18  is even\n"
     ]
    }
   ],
   "source": [
    "# A17.\n",
    "num = int(input(\"Enter a number: \"))\n",
    "if num%2 == 0:\n",
    "  print(num,\" is even\")\n",
    "else:\n",
    "  print(num,\" is odd\")"
   ]
  },
  {
   "cell_type": "markdown",
   "id": "47637d3f",
   "metadata": {},
   "source": [
    "Q18. What are boolean operator? \n",
    "\n",
    "A18. Boolean operatos are oprators used to check conditions. e.g True , False , not , and , or."
   ]
  },
  {
   "cell_type": "markdown",
   "id": "1c5b80c7",
   "metadata": {},
   "source": [
    "Q19. What will the output of the following?\n",
    "\n",
    "1 or 0\n",
    "\n",
    "0 and 0\n",
    "\n",
    "True and False and True\n",
    "\n",
    "1 or 0 or 0\n",
    "\n",
    "A19. Outputs will be 1, 0, False, 1"
   ]
  },
  {
   "cell_type": "markdown",
   "id": "62926918",
   "metadata": {},
   "source": [
    "Q20. What are conditional statements in Python?\n",
    "\n",
    "A20. Statements that allow us to control the flow of your program based on certain conditions that we specify."
   ]
  },
  {
   "cell_type": "markdown",
   "id": "5e5c87b1",
   "metadata": {},
   "source": [
    "Q21. What is use of 'if', 'elif' and 'else' keywords?\n",
    "\n",
    "A21. \"if\" is the first condition to check for a program, and if \"if\" does not satisfy the condition, \"elif\" condition is checked. and if all the above condition fail then \"else\" is executed."
   ]
  },
  {
   "cell_type": "markdown",
   "id": "1494d8ae",
   "metadata": {},
   "source": [
    "Q22. Write a code to take the age of person as an input and if age >= 18 display \"I can vote\". If age is < 18 display \"I can't vote\"."
   ]
  },
  {
   "cell_type": "code",
   "execution_count": 14,
   "id": "bb132332",
   "metadata": {},
   "outputs": [
    {
     "name": "stdout",
     "output_type": "stream",
     "text": [
      "Enter you age: 19\n",
      "I can vote\n"
     ]
    }
   ],
   "source": [
    "# A22.\n",
    "age = int(input(\"Enter you age: \"))\n",
    "if age >= 18:\n",
    "    print(\"I can vote\")\n",
    "else:\n",
    "    print(\"I can't vote\") "
   ]
  },
  {
   "cell_type": "markdown",
   "id": "bd7aefd5",
   "metadata": {},
   "source": [
    "Q23. Write a code that displays the sum of all the even numbers from the given list. numbers = [12, 75, 150, 180, 145, 525, 50]"
   ]
  },
  {
   "cell_type": "code",
   "execution_count": 16,
   "id": "11ef0f30",
   "metadata": {},
   "outputs": [
    {
     "name": "stdout",
     "output_type": "stream",
     "text": [
      "392\n"
     ]
    }
   ],
   "source": [
    "# A23.\n",
    "numbers = [12, 75, 150, 180, 145, 525, 50]\n",
    "out = 0\n",
    "for n in numbers:\n",
    "  if n%2 == 0:\n",
    "    out = out+n\n",
    "  else:\n",
    "    continue\n",
    "print(out) "
   ]
  },
  {
   "cell_type": "markdown",
   "id": "60775a99",
   "metadata": {},
   "source": [
    "Q24. Write a code to take 3 numbers as an input from the user and display the greatest no as output."
   ]
  },
  {
   "cell_type": "code",
   "execution_count": 20,
   "id": "4f169ea0",
   "metadata": {},
   "outputs": [
    {
     "name": "stdout",
     "output_type": "stream",
     "text": [
      "Enter 3 numbers seprate by comma: 3,8,5\n",
      "8  is greatest\n"
     ]
    }
   ],
   "source": [
    "# A24.\n",
    "x, y, z = input(\"Enter 3 numbers seprate by comma: \").split(\",\")\n",
    "x,y,z= int(x), int(y), int(z)\n",
    "\n",
    "if x > y and x > z:\n",
    "  print(x,\" is greatest\")\n",
    "elif y > z:\n",
    "  print(y,\" is greatest\")\n",
    "else:\n",
    "  print(z,\" is greatest\")"
   ]
  },
  {
   "cell_type": "markdown",
   "id": "cae752ec",
   "metadata": {},
   "source": [
    "Q25. Write a program to display only those numbers from a list that satisfy the following conditions\n",
    "\n",
    "- The number must be divisible by five\n",
    "\n",
    "- If the number is greater than 150, then skip it and move to the next number\n",
    "\n",
    "- If the number is greater than 500, then stop the loop\n",
    "\n",
    "numbers = [12, 75, 150, 180, 145, 525, 50]"
   ]
  },
  {
   "cell_type": "code",
   "execution_count": 24,
   "id": "6c7e8f88",
   "metadata": {},
   "outputs": [
    {
     "name": "stdout",
     "output_type": "stream",
     "text": [
      "[75, 150, 145]\n"
     ]
    }
   ],
   "source": [
    "# A25.\n",
    "numbers = [12, 75, 150, 180, 145, 525, 50]\n",
    "out = []\n",
    "for num in numbers:\n",
    "    if num > 150:\n",
    "        if num > 500:\n",
    "            break\n",
    "        else:\n",
    "            continue\n",
    "    elif num%5==0:\n",
    "        out.append(num)\n",
    "print(out)"
   ]
  },
  {
   "cell_type": "code",
   "execution_count": null,
   "id": "4f06d9fd",
   "metadata": {},
   "outputs": [],
   "source": []
  }
 ],
 "metadata": {
  "kernelspec": {
   "display_name": "Python 3 (ipykernel)",
   "language": "python",
   "name": "python3"
  },
  "language_info": {
   "codemirror_mode": {
    "name": "ipython",
    "version": 3
   },
   "file_extension": ".py",
   "mimetype": "text/x-python",
   "name": "python",
   "nbconvert_exporter": "python",
   "pygments_lexer": "ipython3",
   "version": "3.10.9"
  }
 },
 "nbformat": 4,
 "nbformat_minor": 5
}
