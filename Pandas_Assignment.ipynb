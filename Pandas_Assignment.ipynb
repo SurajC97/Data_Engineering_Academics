{
 "cells": [
  {
   "cell_type": "markdown",
   "id": "0d433372",
   "metadata": {},
   "source": [
    "# Pandas Assignment"
   ]
  },
  {
   "cell_type": "markdown",
   "id": "0834db4c",
   "metadata": {},
   "source": [
    "Q1. How do you load a CSV file into a Pandas DataFrame?\n",
    "\n",
    "A1. To import a CSV file and put the contents into a Pandas dataframe we use the read_csv() function:\n",
    "\n",
    "df = pd.read_csv('data.csv')"
   ]
  },
  {
   "cell_type": "markdown",
   "id": "38fbd7d0",
   "metadata": {},
   "source": [
    "Q2. How do you check the data type of a column in a Pandas DataFrame?\n",
    "\n",
    "A2. To check the data type in pandas DataFrame we can use the “dtypes” attribute:\n",
    "\n",
    "df['column_name'].dtypes"
   ]
  },
  {
   "cell_type": "markdown",
   "id": "25366980",
   "metadata": {},
   "source": [
    "Q3. How do you select rows from a Pandas DataFrame based on a condition?\n",
    "\n",
    "A3. You can select the rows from pandas DataFrame basedon conditions by either using DataFrame.loc[] attribute or using conditional operators to columns or DataFrame.apply() method to use lambda function to a dataframe."
   ]
  },
  {
   "cell_type": "markdown",
   "id": "7bd6731f",
   "metadata": {},
   "source": [
    "Q4. How do you rename columns in a Pandas DataFrame?\n",
    "\n",
    "A4. We can rename columns in a Pandas DataFrame using rename() function or assigning list of new column names or using set_axis() function. "
   ]
  },
  {
   "cell_type": "markdown",
   "id": "71fbfb3c",
   "metadata": {},
   "source": [
    "Q5. How do you drop columns in a Pandas DataFrame?\n",
    "\n",
    "A5. By using the drop() function the specified column can be dropped. And we must specifying the axis as \"1\" for columns."
   ]
  },
  {
   "cell_type": "markdown",
   "id": "37007101",
   "metadata": {},
   "source": [
    "Q6. How do you find the unique values in a column of a Pandas DataFrame?\n",
    "\n",
    "A6. To find the unique values from a column in a Pandas dataframe we can use the unique() method:\n",
    "\n",
    "df['column_name'].unique() "
   ]
  },
  {
   "cell_type": "markdown",
   "id": "09096ef9",
   "metadata": {},
   "source": [
    "Q7. How do you find the number of missing values in each column of a Pandas DataFrame?\n",
    "\n",
    "A7.We can count the number of missing values in each column by calling sum() to the result of isnull() function:\n",
    "\n",
    "df.isnull().sum()"
   ]
  },
  {
   "cell_type": "markdown",
   "id": "b5f35e86",
   "metadata": {},
   "source": [
    "Q8. How do you fill missing values in a Pandas DataFrame with a specific value?\n",
    "\n",
    "A8. The fillna() method replaces the NULL values with a specified value:\n",
    "\n",
    "df.fillna(0)"
   ]
  },
  {
   "cell_type": "markdown",
   "id": "0897f276",
   "metadata": {},
   "source": [
    "Q9. How do you concatenate two Pandas DataFrames?\n",
    "\n",
    "A9. To concatenate two DataFrames the concat function can be used:\n",
    "\n",
    "pd.concat([df1, df2])"
   ]
  },
  {
   "cell_type": "markdown",
   "id": "1b9b2a44",
   "metadata": {},
   "source": [
    "Q10. How do you merge two Pandas DataFrames on a specific column?\n",
    "\n",
    "A10. We can merge two DataFrames on certain columns using the merge function by simply specifying the certain columns for merge: \n",
    "\n",
    "df1.merge(df2[['Name']])"
   ]
  },
  {
   "cell_type": "markdown",
   "id": "4e85c82f",
   "metadata": {},
   "source": [
    "Q11. How do you group data in a Pandas DataFrame by a specific column and apply an aggregation function?\n",
    "\n",
    "A11. We can group data in a Pandas DataFrame by using groupby() function. This function returns the DataFrame Grouped by specified columns then we use aggregate() function on top of that:\n",
    "\n",
    "df.groupby(['StudentID','Subject']).sum()"
   ]
  },
  {
   "cell_type": "markdown",
   "id": "d2621c11",
   "metadata": {},
   "source": [
    "Q12. How do you pivot a Pandas DataFrame?\n",
    "\n",
    "A12. The pivot function in pandas is used to pivot a Pandas DataFrame:\n",
    "\n",
    "df.pivot(index ='A', columns = 'C', values = 'B')"
   ]
  },
  {
   "cell_type": "markdown",
   "id": "ba747d2a",
   "metadata": {},
   "source": [
    "Q13. How do you change the data type of a column in a Pandas DataFrame?\n",
    "\n",
    "A13. astype() method is used to cast pandas object to a specified dtype:\n",
    "\n",
    "df['col'].astype(str)"
   ]
  },
  {
   "cell_type": "markdown",
   "id": "c36d3e69",
   "metadata": {},
   "source": [
    "Q14. How do you sort a Pandas DataFrame by a specific column?\n",
    "\n",
    "A14. To sort the DataFrame based on a specific column, we use sort_values() function. By default, this will return a new DataFrame sorted in ascending order."
   ]
  },
  {
   "cell_type": "markdown",
   "id": "17403568",
   "metadata": {},
   "source": [
    "Q15. How do you create a copy of a Pandas DataFrame?\n",
    "\n",
    "A15. The copy() method returns a copy of the DataFrame:\n",
    "\n",
    "df1= df.copy()"
   ]
  },
  {
   "cell_type": "markdown",
   "id": "709d7cba",
   "metadata": {},
   "source": [
    "Q16. How do you filter rows of a Pandas DataFrame by multiple conditions?\n",
    "\n",
    "A16. To filter Pandas DataFrame by multiple conditions, we use the loc property with the conditions inside. Make sure you surround each condition with braces:\n",
    "\n",
    "dataFrame.loc[(dataFrame['Salary']>=1000) & (dataFrame['Age']< 40)]"
   ]
  },
  {
   "cell_type": "markdown",
   "id": "3e0082ac",
   "metadata": {},
   "source": [
    "Q17. How do you calculate the mean of a column in a Pandas DataFrame?\n",
    "\n",
    "A17. To calculate the mean of a columns in the DataFrame, use the mean() method:\n",
    "\n",
    "df['col'].mean()"
   ]
  },
  {
   "cell_type": "markdown",
   "id": "21971860",
   "metadata": {},
   "source": [
    "Q18. How do you calculate the standard deviation of a column in a Pandas DataFrame?\n",
    "\n",
    "A18. We use the std() method to calculate the standard deviation of columns in the DataFrame:\n",
    "\n",
    "df['age'].std()"
   ]
  },
  {
   "cell_type": "markdown",
   "id": "f62e5556",
   "metadata": {},
   "source": [
    "Q19. How do you calculate the correlation between two columns in a Pandas DataFrame?\n",
    "\n",
    "A19. We can use the .corr() method to get the correlation between two columns in Pandas:\n",
    "\n",
    "corr = df[col1].corr(df[col2])"
   ]
  },
  {
   "cell_type": "markdown",
   "id": "f5c23dd7",
   "metadata": {},
   "source": [
    "Q20. How do you select specific columns in a DataFrame using their labels?\n",
    "\n",
    "A20. To select a single column, use square brackets [] with the specific column name. To select multiple columns, use a list of column names within the selection brackets []:\n",
    "\n",
    "age_sex = titanic[[\"Age\", \"Sex\"]]"
   ]
  },
  {
   "cell_type": "markdown",
   "id": "ae85ab36",
   "metadata": {},
   "source": [
    "Q21. How do you select specific rows in a DataFrame using their indexes?\n",
    "\n",
    "A21. We can select specific rows from pandas DataFrame by using iloc property:\n",
    "\n",
    "df.iloc[n]"
   ]
  },
  {
   "cell_type": "markdown",
   "id": "1adbc738",
   "metadata": {},
   "source": [
    "Q22. How do you sort a DataFrame by a specific column?\n",
    "\n",
    "A22. To sort the DataFrame based on the values in a specific column, you'll use .sort_values() function and passing the column name in the by parameter:\n",
    "\n",
    "df.sort_values(by = 'Name')"
   ]
  },
  {
   "cell_type": "markdown",
   "id": "cfe757e5",
   "metadata": {},
   "source": [
    "Q23. How do you create a new column in a DataFrame based on the values of another column?\n",
    "\n",
    "A23. We can use DataFrame.apply() function to achieve this task:\n",
    "\n",
    "df['new_col'] = df.apply(lambda row: row.Price**2, axis = 1)"
   ]
  },
  {
   "cell_type": "markdown",
   "id": "cd17fea4",
   "metadata": {},
   "source": [
    "Q24. How do you remove duplicates from a DataFrame?\n",
    "\n",
    "A24. We can use the drop_duplicates() function to remove all the duplicate rows from a DataFrame:\n",
    "\n",
    "df.drop_duplicates() "
   ]
  },
  {
   "cell_type": "markdown",
   "id": "b777c150",
   "metadata": {},
   "source": [
    "Q25. What is the difference between .loc and .iloc in Pandas?\n",
    "\n",
    "A25. Both are used in slicing data from the Pandas DataFrame. loc is typically used for label indexing and can access multiple columns, while iloc is used for integer indexing. The loc() function is label based data selecting method which means that we have to pass the name of the row or column which we want to select whereas the iloc() function is an indexed-based selecting method which means that we have to pass an integer index in the method to select a specific row/column. This method does not include the last element of the range passed in it unlike loc(). iloc uses system indexes and loc uses the user labeled indexes. "
   ]
  }
 ],
 "metadata": {
  "kernelspec": {
   "display_name": "Python 3 (ipykernel)",
   "language": "python",
   "name": "python3"
  },
  "language_info": {
   "codemirror_mode": {
    "name": "ipython",
    "version": 3
   },
   "file_extension": ".py",
   "mimetype": "text/x-python",
   "name": "python",
   "nbconvert_exporter": "python",
   "pygments_lexer": "ipython3",
   "version": "3.10.9"
  }
 },
 "nbformat": 4,
 "nbformat_minor": 5
}
