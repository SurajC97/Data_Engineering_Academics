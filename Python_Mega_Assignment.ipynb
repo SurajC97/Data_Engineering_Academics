{
 "cells": [
  {
   "cell_type": "markdown",
   "id": "c92676d1",
   "metadata": {},
   "source": [
    "# Python Mega Assignment"
   ]
  },
  {
   "cell_type": "markdown",
   "id": "3c38dc21",
   "metadata": {},
   "source": [
    "Q1. Why do we call Python as a general purpose and high-level programming language?\n",
    "\n",
    "A1. Python is called a general-purpose language as it can be used to create a variety of different programs and isn't specialized for any specific problems. And its called high level because of its beginner-friendliness and ease of understanding."
   ]
  },
  {
   "cell_type": "markdown",
   "id": "a12ef898",
   "metadata": {},
   "source": [
    "Q2. Why is Python called a dynamically typed language?\n",
    "\n",
    "A2. Dynamic typing means that the type of the variable is determined during runtime itself."
   ]
  },
  {
   "cell_type": "markdown",
   "id": "0c01311f",
   "metadata": {},
   "source": [
    "Q3. List some pros and cons of Python programming language?\n",
    "\n",
    "A3. \n",
    "\n",
    "Pros: Easy to use and implement, Large user base, High library support, Open soure\n",
    "\n",
    "   Cons: Slow speed of execution, High memory use, Absence of mobile environment"
   ]
  },
  {
   "cell_type": "markdown",
   "id": "31304e81",
   "metadata": {},
   "source": [
    "Q4. In what all domains can we use Python?\n",
    "\n",
    "A4. Data Science and Machine Learning,Graphic design, image processing applications, computational Applications,\n",
    "Web frameworks and applications,\n",
    "Database Access,\n",
    "Language Development,\n",
    "Prototyping,\n",
    "Software Development,\n",
    "Scripting."
   ]
  },
  {
   "cell_type": "markdown",
   "id": "ffc14cd2",
   "metadata": {},
   "source": [
    "Q5. What are variable and how can we declare them?\n",
    "\n",
    "A5. A variable is a name that is a reference to an object. Once an object is assigned to a variable, you can refer to the object by that variable name. We can define a variabe as: var= 50"
   ]
  },
  {
   "cell_type": "markdown",
   "id": "0b974187",
   "metadata": {},
   "source": [
    "Q6. How can we take an input from the user in Python?\n",
    "\n",
    "A5. By using input() function."
   ]
  },
  {
   "cell_type": "markdown",
   "id": "83b004b0",
   "metadata": {},
   "source": [
    "Q7. What is the default datatype of the value that has been taken as an input using input() function?\n",
    "\n",
    "A7. Datatype i Srting (str)."
   ]
  },
  {
   "cell_type": "markdown",
   "id": "ad5d1ec4",
   "metadata": {},
   "source": [
    "Q8. What is type casting?\n",
    "\n",
    "A8. Type casting is when you assign a value of one primitive data type to another data type."
   ]
  },
  {
   "cell_type": "markdown",
   "id": "a5decaf4",
   "metadata": {},
   "source": [
    "Q9. Can we take more than one input from the user using single input() function? If yes, how? If no, why?\n",
    "\n",
    "A9. yes, x, y, z = input(\"Enter three values split by comma: \").split(\",\")"
   ]
  },
  {
   "cell_type": "markdown",
   "id": "abdfdec7",
   "metadata": {},
   "source": [
    "Q10. What are keywords?\n",
    "\n",
    "A10. Python keywords are special reserved words that have specific meanings and purposes and can't be used for anything but those specific purposes."
   ]
  },
  {
   "cell_type": "markdown",
   "id": "354d6324",
   "metadata": {},
   "source": [
    "Q11. Can we use keywords as a variable? Support your answer with reason.\n",
    "\n",
    "A11. We can use but it will override the properties of the keyword."
   ]
  },
  {
   "cell_type": "markdown",
   "id": "0994534f",
   "metadata": {},
   "source": [
    "Q12. What is indentation? What's the use of indentaion in Python?\n",
    "\n",
    "A12. Indentation is the whitespace used in Python. Indentation is used to create block of statements."
   ]
  },
  {
   "cell_type": "markdown",
   "id": "5b91a647",
   "metadata": {},
   "source": [
    "Q13. How can we throw some output in Python?\n",
    "\n",
    "A13. By using print() function: print(output)"
   ]
  },
  {
   "cell_type": "markdown",
   "id": "bc9ad9df",
   "metadata": {},
   "source": [
    "Q14. What are operators in Python?\n",
    "\n",
    "A14. Keywords and signs used to perform certain operations on values or variable."
   ]
  },
  {
   "cell_type": "markdown",
   "id": "4a8a4995",
   "metadata": {},
   "source": [
    "Q15. What is difference between / and // operators?\n",
    "\n",
    "A15. / is used for division and result in float and // is used for division result in integer."
   ]
  },
  {
   "cell_type": "markdown",
   "id": "328a033c",
   "metadata": {},
   "source": [
    "Q16. Write a code that gives following as an output. iNeuroniNeuroniNeuroniNeuron"
   ]
  },
  {
   "cell_type": "code",
   "execution_count": 25,
   "id": "c71ba778",
   "metadata": {},
   "outputs": [
    {
     "data": {
      "text/plain": [
       "'iNeuroniNeuroniNeuron'"
      ]
     },
     "execution_count": 25,
     "metadata": {},
     "output_type": "execute_result"
    }
   ],
   "source": [
    "# A16. \n",
    "output= \"iNeuron\"*3\n",
    "output"
   ]
  },
  {
   "cell_type": "markdown",
   "id": "bc792ce7",
   "metadata": {},
   "source": [
    "Q17. Write a code to take a number as an input from the user and check if the number is odd or even."
   ]
  },
  {
   "cell_type": "code",
   "execution_count": 15,
   "id": "f6320936",
   "metadata": {},
   "outputs": [
    {
     "name": "stdout",
     "output_type": "stream",
     "text": [
      "Enter a number: 18\n",
      "18  is even\n"
     ]
    }
   ],
   "source": [
    "# A17.\n",
    "num = int(input(\"Enter a number: \"))\n",
    "if num%2 == 0:\n",
    "  print(num,\" is even\")\n",
    "else:\n",
    "  print(num,\" is odd\")"
   ]
  },
  {
   "cell_type": "markdown",
   "id": "47637d3f",
   "metadata": {},
   "source": [
    "Q18. What are boolean operator? \n",
    "\n",
    "A18. Boolean operatos are oprators used to check conditions. e.g True , False , not , and , or."
   ]
  },
  {
   "cell_type": "markdown",
   "id": "1c5b80c7",
   "metadata": {},
   "source": [
    "Q19. What will the output of the following?\n",
    "\n",
    "1 or 0\n",
    "\n",
    "0 and 0\n",
    "\n",
    "True and False and True\n",
    "\n",
    "1 or 0 or 0\n",
    "\n",
    "A19. Outputs will be 1, 0, False, 1"
   ]
  },
  {
   "cell_type": "markdown",
   "id": "62926918",
   "metadata": {},
   "source": [
    "Q20. What are conditional statements in Python?\n",
    "\n",
    "A20. Statements that allow us to control the flow of your program based on certain conditions that we specify."
   ]
  },
  {
   "cell_type": "markdown",
   "id": "5e5c87b1",
   "metadata": {},
   "source": [
    "Q21. What is use of 'if', 'elif' and 'else' keywords?\n",
    "\n",
    "A21. \"if\" is the first condition to check for a program, and if \"if\" does not satisfy the condition, \"elif\" condition is checked. and if all the above condition fail then \"else\" is executed."
   ]
  },
  {
   "cell_type": "markdown",
   "id": "1494d8ae",
   "metadata": {},
   "source": [
    "Q22. Write a code to take the age of person as an input and if age >= 18 display \"I can vote\". If age is < 18 display \"I can't vote\"."
   ]
  },
  {
   "cell_type": "code",
   "execution_count": 14,
   "id": "bb132332",
   "metadata": {},
   "outputs": [
    {
     "name": "stdout",
     "output_type": "stream",
     "text": [
      "Enter you age: 19\n",
      "I can vote\n"
     ]
    }
   ],
   "source": [
    "# A22.\n",
    "age = int(input(\"Enter you age: \"))\n",
    "if age >= 18:\n",
    "    print(\"I can vote\")\n",
    "else:\n",
    "    print(\"I can't vote\") "
   ]
  },
  {
   "cell_type": "markdown",
   "id": "bd7aefd5",
   "metadata": {},
   "source": [
    "Q23. Write a code that displays the sum of all the even numbers from the given list. numbers = [12, 75, 150, 180, 145, 525, 50]"
   ]
  },
  {
   "cell_type": "code",
   "execution_count": 16,
   "id": "11ef0f30",
   "metadata": {},
   "outputs": [
    {
     "name": "stdout",
     "output_type": "stream",
     "text": [
      "392\n"
     ]
    }
   ],
   "source": [
    "# A23.\n",
    "numbers = [12, 75, 150, 180, 145, 525, 50]\n",
    "out = 0\n",
    "for n in numbers:\n",
    "  if n%2 == 0:\n",
    "    out = out+n\n",
    "  else:\n",
    "    continue\n",
    "print(out) "
   ]
  },
  {
   "cell_type": "markdown",
   "id": "60775a99",
   "metadata": {},
   "source": [
    "Q24. Write a code to take 3 numbers as an input from the user and display the greatest no as output."
   ]
  },
  {
   "cell_type": "code",
   "execution_count": 20,
   "id": "4f169ea0",
   "metadata": {},
   "outputs": [
    {
     "name": "stdout",
     "output_type": "stream",
     "text": [
      "Enter 3 numbers seprate by comma: 3,8,5\n",
      "8  is greatest\n"
     ]
    }
   ],
   "source": [
    "# A24.\n",
    "x, y, z = input(\"Enter 3 numbers seprate by comma: \").split(\",\")\n",
    "x,y,z= int(x), int(y), int(z)\n",
    "\n",
    "if x > y and x > z:\n",
    "  print(x,\" is greatest\")\n",
    "elif y > z:\n",
    "  print(y,\" is greatest\")\n",
    "else:\n",
    "  print(z,\" is greatest\")"
   ]
  },
  {
   "cell_type": "markdown",
   "id": "cae752ec",
   "metadata": {},
   "source": [
    "Q25. Write a program to display only those numbers from a list that satisfy the following conditions\n",
    "\n",
    "- The number must be divisible by five\n",
    "\n",
    "- If the number is greater than 150, then skip it and move to the next number\n",
    "\n",
    "- If the number is greater than 500, then stop the loop\n",
    "\n",
    "numbers = [12, 75, 150, 180, 145, 525, 50]"
   ]
  },
  {
   "cell_type": "code",
   "execution_count": 24,
   "id": "6c7e8f88",
   "metadata": {},
   "outputs": [
    {
     "name": "stdout",
     "output_type": "stream",
     "text": [
      "[75, 150, 145]\n"
     ]
    }
   ],
   "source": [
    "# A25.\n",
    "numbers = [12, 75, 150, 180, 145, 525, 50]\n",
    "out = []\n",
    "for num in numbers:\n",
    "    if num > 150:\n",
    "        if num > 500:\n",
    "            break\n",
    "        else:\n",
    "            continue\n",
    "    elif num%5==0:\n",
    "        out.append(num)\n",
    "print(out)"
   ]
  },
  {
   "cell_type": "markdown",
   "id": "d1a18707",
   "metadata": {},
   "source": [
    "Q26. What is a string? How can we declare string in Python?\n",
    "\n",
    "A26. Strings are arrays of bytes representing Unicode characters. String can be declared by assigning any value inside quotes to a variable. string= \"A String\""
   ]
  },
  {
   "cell_type": "markdown",
   "id": "f957ca26",
   "metadata": {},
   "source": [
    "Q27. How can we access the string using its index?\n",
    "\n",
    "A27. By using sqaure brackets with index number inside: String[5]"
   ]
  },
  {
   "cell_type": "markdown",
   "id": "5e590ca3",
   "metadata": {},
   "source": [
    "Q28. Write a code to get the desired output of the following\n",
    "\n",
    "string = \"Big Data iNeuron\"\n",
    "desired_output = \"iNeuron\""
   ]
  },
  {
   "cell_type": "code",
   "execution_count": 3,
   "id": "9eed148e",
   "metadata": {},
   "outputs": [
    {
     "name": "stdout",
     "output_type": "stream",
     "text": [
      "iNeuron\n"
     ]
    }
   ],
   "source": [
    "# A28.\n",
    "string = \"Big Data iNeuron\"\n",
    "output= string[9:]\n",
    "print(output)"
   ]
  },
  {
   "cell_type": "markdown",
   "id": "6614d661",
   "metadata": {},
   "source": [
    "Q29. Write a code to get the desired output of the following\n",
    "\n",
    "string = \"Big Data iNeuron\"\n",
    "desired_output = \"norueNi\""
   ]
  },
  {
   "cell_type": "code",
   "execution_count": 6,
   "id": "929b3f5d",
   "metadata": {},
   "outputs": [
    {
     "data": {
      "text/plain": [
       "'norueNi'"
      ]
     },
     "execution_count": 6,
     "metadata": {},
     "output_type": "execute_result"
    }
   ],
   "source": [
    "# A29.\n",
    "string = \"Big Data iNeuron\"\n",
    "string[:8:-1]"
   ]
  },
  {
   "cell_type": "markdown",
   "id": "7a66c00b",
   "metadata": {},
   "source": [
    "Q30. Resverse the string given in the above question."
   ]
  },
  {
   "cell_type": "code",
   "execution_count": 8,
   "id": "7b5379dd",
   "metadata": {},
   "outputs": [
    {
     "data": {
      "text/plain": [
       "'norueNi ataD giB'"
      ]
     },
     "execution_count": 8,
     "metadata": {},
     "output_type": "execute_result"
    }
   ],
   "source": [
    "# A30.\n",
    "string[::-1]"
   ]
  },
  {
   "cell_type": "markdown",
   "id": "55e50871",
   "metadata": {},
   "source": [
    "Q31. How can you delete entire string at once?\n",
    "\n",
    "A31. Using del keyword: del(string)"
   ]
  },
  {
   "cell_type": "markdown",
   "id": "4bd83591",
   "metadata": {},
   "source": [
    "Q32. What is escape sequence?\n",
    "\n",
    "A32. Character combinations consisting of a backslash (\\) followed by a letter or by a combination of digits are called escape sequences. When used inside a character or string, does not represent itself but is converted into another character or series of characters."
   ]
  },
  {
   "cell_type": "markdown",
   "id": "5f8e0b9e",
   "metadata": {},
   "source": [
    "Q33. How can you print the below string?\n",
    "\n",
    "'iNeuron's Big Data Course'"
   ]
  },
  {
   "cell_type": "code",
   "execution_count": 11,
   "id": "a5fbba01",
   "metadata": {},
   "outputs": [
    {
     "name": "stdout",
     "output_type": "stream",
     "text": [
      "'iNeuron's Big Data Course'\n"
     ]
    }
   ],
   "source": [
    "# A33.\n",
    "\n",
    "print(\"'iNeuron's Big Data Course'\")"
   ]
  },
  {
   "cell_type": "markdown",
   "id": "56fa18d4",
   "metadata": {},
   "source": [
    "Q34. What is a list in Python?\n",
    "\n",
    "A34. A list is a collection of data, enclosed in [ ] and separated by commas."
   ]
  },
  {
   "cell_type": "markdown",
   "id": "87f06cff",
   "metadata": {},
   "source": [
    "Q35. How can you create a list in Python?\n",
    "\n",
    "A35. By opening square brackets giving values seperated by commas and closing the square brackets."
   ]
  },
  {
   "cell_type": "markdown",
   "id": "9c877330",
   "metadata": {},
   "source": [
    "Q36. How can we access the elements in a list?\n",
    "\n",
    "A36. We can access the elements in a list by using indexing."
   ]
  },
  {
   "cell_type": "markdown",
   "id": "34241100",
   "metadata": {},
   "source": [
    "Q37. Write a code to access the word \"iNeuron\" from the given list. lst = [1,2,3,\"Hi\",[45,54, \"iNeuron\"], \"Big Data\"]"
   ]
  },
  {
   "cell_type": "code",
   "execution_count": 14,
   "id": "4a0feaf1",
   "metadata": {},
   "outputs": [
    {
     "data": {
      "text/plain": [
       "'iNeuron'"
      ]
     },
     "execution_count": 14,
     "metadata": {},
     "output_type": "execute_result"
    }
   ],
   "source": [
    "#A37.\n",
    "\n",
    "lst = [1,2,3,\"Hi\",[45,54, \"iNeuron\"], \"Big Data\"]\n",
    "lst[4][2]"
   ]
  },
  {
   "cell_type": "markdown",
   "id": "9474b8a2",
   "metadata": {},
   "source": [
    "Q38. Take a list as an input from the user and find the length of the list."
   ]
  },
  {
   "cell_type": "code",
   "execution_count": 17,
   "id": "ec31544d",
   "metadata": {},
   "outputs": [
    {
     "name": "stdout",
     "output_type": "stream",
     "text": [
      "Enter elements seprated by comma: 4,5,6,df,rt\n",
      "5\n"
     ]
    }
   ],
   "source": [
    "#A38.\n",
    "\n",
    "lst = input(\"Enter elements seprated by comma: \").split(\",\")\n",
    "print(len(lst))"
   ]
  },
  {
   "cell_type": "markdown",
   "id": "2e04c82c",
   "metadata": {},
   "source": [
    "Q39. Add the word \"Big\" in the 3rd index of the given list.\n",
    "\n",
    "lst = [\"Welcome\", \"to\", \"Data\", \"course\"]"
   ]
  },
  {
   "cell_type": "code",
   "execution_count": 20,
   "id": "00a85bb2",
   "metadata": {},
   "outputs": [
    {
     "data": {
      "text/plain": [
       "['Welcome', 'to', 'Data', 'Big', 'course']"
      ]
     },
     "execution_count": 20,
     "metadata": {},
     "output_type": "execute_result"
    }
   ],
   "source": [
    "#A39.\n",
    "\n",
    "lst = [\"Welcome\", \"to\", \"Data\", \"course\"]\n",
    "lst.insert(3, \"Big\")\n",
    "lst"
   ]
  },
  {
   "cell_type": "markdown",
   "id": "dd42af9f",
   "metadata": {},
   "source": [
    "Q40. What is a tuple? How is it different from list?\n",
    "\n",
    "A40. Tuples are used to store multiple items in a single variable. Tuple is one of 4 built-in data types in Python used to store collections of data. Tuples are immutable unlike lists and also stores data in ordered manner unlike list."
   ]
  },
  {
   "cell_type": "markdown",
   "id": "a6bcd4d9",
   "metadata": {},
   "source": [
    "Q41. How can you create a tuple in Python?\n",
    "\n",
    "Ans41. Using round brackets (): tpl= (3,4,1) "
   ]
  },
  {
   "cell_type": "markdown",
   "id": "d55d6aec",
   "metadata": {},
   "source": [
    "Q42. Create a tuple and try to add your name in the tuple. Are you able to do it? Support your answer with reason."
   ]
  },
  {
   "cell_type": "code",
   "execution_count": 24,
   "id": "065b0f85",
   "metadata": {},
   "outputs": [],
   "source": [
    "#A42.\n",
    "\n",
    "tpl = (1,2)\n",
    "tpl.add(\"Suraj\")\n",
    "tpl\n",
    "\n",
    "# Not able to this as tuples are immutable."
   ]
  },
  {
   "cell_type": "markdown",
   "id": "7afba8d7",
   "metadata": {},
   "source": [
    "Q43. Can two tuple be appended. If yes, write a code for it. If not, why?"
   ]
  },
  {
   "cell_type": "code",
   "execution_count": 28,
   "id": "cbe00428",
   "metadata": {},
   "outputs": [
    {
     "data": {
      "text/plain": [
       "('Hello', 9, 'World', 8)"
      ]
     },
     "execution_count": 28,
     "metadata": {},
     "output_type": "execute_result"
    }
   ],
   "source": [
    "# A43.Yes, can be.\n",
    "\n",
    "tp1 = (\"Hello\",9)\n",
    "tp2 = (\"World\",8)\n",
    "tp1+tp2"
   ]
  },
  {
   "cell_type": "markdown",
   "id": "20dc7eb4",
   "metadata": {},
   "source": [
    "Q44. Take a tuple as an input and print the count of elements in it."
   ]
  },
  {
   "cell_type": "code",
   "execution_count": 29,
   "id": "f3526d69",
   "metadata": {},
   "outputs": [
    {
     "name": "stdout",
     "output_type": "stream",
     "text": [
      "Enter values separeted by comma: 4,6,12,3,4\n",
      "5\n"
     ]
    }
   ],
   "source": [
    "# A44.\n",
    "\n",
    "x = tuple(input(\"Enter values separeted by comma: \").split(\",\"))\n",
    "print(len(x))"
   ]
  },
  {
   "cell_type": "markdown",
   "id": "196d8af8",
   "metadata": {},
   "source": [
    "Q45. What are sets in Python?\n",
    "\n",
    "A45. A set is one of data types in python that is mutable and unindexed and also contains no duplicate elements."
   ]
  },
  {
   "cell_type": "markdown",
   "id": "68631e76",
   "metadata": {},
   "source": [
    "Q46. How can you create a set?\n",
    "\n",
    "A46. Using curly brackets {}: set1= {4,3,5,6}"
   ]
  },
  {
   "cell_type": "markdown",
   "id": "790fa5c7",
   "metadata": {},
   "source": [
    "Q47. Create a set and add \"iNeuron\" in your set."
   ]
  },
  {
   "cell_type": "code",
   "execution_count": 30,
   "id": "ea8e5aee",
   "metadata": {},
   "outputs": [
    {
     "data": {
      "text/plain": [
       "{3, 4, 'iNeuron'}"
      ]
     },
     "execution_count": 30,
     "metadata": {},
     "output_type": "execute_result"
    }
   ],
   "source": [
    "#A47.\n",
    "\n",
    "set1 = {3,4}\n",
    "set1.add(\"iNeuron\")\n",
    "set1"
   ]
  },
  {
   "cell_type": "markdown",
   "id": "fdd5c443",
   "metadata": {},
   "source": [
    "Q48. Try to add multiple values using add() function."
   ]
  },
  {
   "cell_type": "code",
   "execution_count": 31,
   "id": "f64731c0",
   "metadata": {},
   "outputs": [
    {
     "data": {
      "text/plain": [
       "{3, 4, 'Big', 'Data', 'iNeuron'}"
      ]
     },
     "execution_count": 31,
     "metadata": {},
     "output_type": "execute_result"
    }
   ],
   "source": [
    "# A48\n",
    "\n",
    "set1.add(\"Big\")\n",
    "set1.add(\"Data\")\n",
    "set1"
   ]
  },
  {
   "cell_type": "markdown",
   "id": "c722609d",
   "metadata": {},
   "source": [
    "Q49. How is update() different from add()?\n",
    "\n",
    "A49. We use add() method to add single value to a set. We use update() method to add sequence values to a set."
   ]
  },
  {
   "cell_type": "markdown",
   "id": "3e700619",
   "metadata": {},
   "source": [
    "Q50. What is clear() in sets?\n",
    "\n",
    "A50. To remove all the elements from the set."
   ]
  },
  {
   "cell_type": "markdown",
   "id": "fefad73f",
   "metadata": {},
   "source": [
    "Q51. What is frozen set?\n",
    "\n",
    "A51. Frozen set is an immutable version of a Python set object. While elements of a set can be modified at any time, elements of the frozen set remain the same after creation.It only support methods and operators that produce a result without affecting the frozen set or sets to which they are applied."
   ]
  },
  {
   "cell_type": "markdown",
   "id": "bf03c1ae",
   "metadata": {},
   "source": [
    "\n",
    "Q52. How is frozen set different from set?\n",
    "\n",
    "A52. Frozen sets are immutable where as sets are mutable.\n",
    "Sets can't be used as keys in dictionary where as frozen sets can be used."
   ]
  },
  {
   "cell_type": "markdown",
   "id": "3c177017",
   "metadata": {},
   "source": [
    "Q53. What is union() in sets? Explain via code."
   ]
  },
  {
   "cell_type": "code",
   "execution_count": 37,
   "id": "7958f92c",
   "metadata": {},
   "outputs": [
    {
     "name": "stdout",
     "output_type": "stream",
     "text": [
      "{1, 2, 4, 5, 6, 7, 8, 9}\n"
     ]
    }
   ],
   "source": [
    "#A53. The union() method returns a set that contains all items from the original set, and all items from the other specified set.\n",
    "\n",
    "set1 = {2, 1, 5, 6}\n",
    "set2 = {4, 9, 7, 8}\n",
    "\n",
    "print(set1.union(set2))"
   ]
  },
  {
   "cell_type": "markdown",
   "id": "84672840",
   "metadata": {},
   "source": [
    "Q54. What is intersection() in sets? Explain via code."
   ]
  },
  {
   "cell_type": "code",
   "execution_count": 39,
   "id": "2934f27f",
   "metadata": {},
   "outputs": [
    {
     "name": "stdout",
     "output_type": "stream",
     "text": [
      "{8, 7}\n"
     ]
    }
   ],
   "source": [
    "#A54. Python set intersection() method returns a new set with elements that are common to all specified sets.\n",
    "\n",
    "set1 = {8, 1, 7, 6}\n",
    "set2 = {4, 9, 7, 8}\n",
    "\n",
    "print(set1.intersection(set2))"
   ]
  },
  {
   "cell_type": "markdown",
   "id": "c45c7fe7",
   "metadata": {},
   "source": [
    "Q55. What is dictionary in Python?\n",
    "\n",
    "A55. Dictionary in Python is a data type that is used for collection of keys and values in pairs."
   ]
  },
  {
   "cell_type": "markdown",
   "id": "f6728509",
   "metadata": {},
   "source": [
    "Q56. How is dictionary different from all other data structures.\n",
    "\n",
    "A56. Dictionary have data in key and value pair where as all other data structures have only singular values in them."
   ]
  },
  {
   "cell_type": "markdown",
   "id": "f6e74313",
   "metadata": {},
   "source": [
    "Q57. How can we delare a dictionary in Python?\n",
    "\n",
    "Ans57. We can create dictionary using curly brackets {}: dct={a:1, b:2}"
   ]
  },
  {
   "cell_type": "markdown",
   "id": "7acc3bbe",
   "metadata": {},
   "source": [
    "Q58. What will the output of the following?\n",
    "\n",
    "var = {}\n",
    "\n",
    "print(type(var))\n",
    "\n",
    "A58. dict"
   ]
  },
  {
   "cell_type": "markdown",
   "id": "f20b152e",
   "metadata": {},
   "source": [
    "Q59. How can we add an element in a dictionary?"
   ]
  },
  {
   "cell_type": "code",
   "execution_count": 47,
   "id": "b70ba0f4",
   "metadata": {},
   "outputs": [
    {
     "data": {
      "text/plain": [
       "{1: 'Hello', 2: 'World'}"
      ]
     },
     "execution_count": 47,
     "metadata": {},
     "output_type": "execute_result"
    }
   ],
   "source": [
    "#A59.\n",
    "\n",
    "dct={}\n",
    "dct[1]= 'Hello'\n",
    "dct[2]= 'World'\n",
    "dct"
   ]
  },
  {
   "cell_type": "markdown",
   "id": "d3bf8903",
   "metadata": {},
   "source": [
    "Q60. Create a dictionary and access all the values in that dictionary."
   ]
  },
  {
   "cell_type": "code",
   "execution_count": 49,
   "id": "6715e16f",
   "metadata": {},
   "outputs": [
    {
     "name": "stdout",
     "output_type": "stream",
     "text": [
      "Key is 1 and value is Hello\n",
      "Key is 2 and value is World\n"
     ]
    }
   ],
   "source": [
    "#A60.\n",
    "\n",
    "for i, j in dct.items():\n",
    "    print(f\"Key is {i} and value is {j}\")"
   ]
  },
  {
   "cell_type": "markdown",
   "id": "989da58a",
   "metadata": {},
   "source": [
    "Q61. Create a nested dictionary and access all the element in the inner dictionary."
   ]
  },
  {
   "cell_type": "code",
   "execution_count": 4,
   "id": "4d9c7d7c",
   "metadata": {},
   "outputs": [
    {
     "name": "stdout",
     "output_type": "stream",
     "text": [
      "Key: A, value: hello\n",
      "Key: B, value: world\n"
     ]
    }
   ],
   "source": [
    "#A61.\n",
    "\n",
    "X = {\"Nest\": {\"A\":\"hello\", \"B\":\"world\"}, \"C\": 100, \"D\":200}\n",
    "for i, j in X[\"Nest\"].items():\n",
    "    print(f\"Key: {i}, value: {j}\")"
   ]
  },
  {
   "cell_type": "markdown",
   "id": "d73c41f2",
   "metadata": {},
   "source": [
    "Q62. What is the use of get() function?\n",
    "\n",
    "A62. The get() method returns the value of the item with the specified key in a dictionary."
   ]
  },
  {
   "cell_type": "markdown",
   "id": "daca7b51",
   "metadata": {},
   "source": [
    "Q63. What is the use of items() function?\n",
    "\n",
    "A63. items() function is used to return the list of all dictionary keys with values."
   ]
  },
  {
   "cell_type": "markdown",
   "id": "50db70e5",
   "metadata": {},
   "source": [
    "Q64. What is the use of pop() function?\n",
    "\n",
    "A64. Used to removes an item at a specified key from the dictionary. "
   ]
  },
  {
   "cell_type": "markdown",
   "id": "b305b0ad",
   "metadata": {},
   "source": [
    "Q65. What is the use of popitems() function?\n",
    "\n",
    "A65. popitem() function removes the last inserted item from the dictionary."
   ]
  },
  {
   "cell_type": "markdown",
   "id": "eda33fb0",
   "metadata": {},
   "source": [
    "Q66. What is the use of keys() function?\n",
    "\n",
    "A66. keys() function returns the list of all the keys in the dictionary."
   ]
  },
  {
   "cell_type": "markdown",
   "id": "4e0f3f7d",
   "metadata": {},
   "source": [
    "Q67. What is the use of values() function?\n",
    "\n",
    "A67. values() function returns the list of all the values of the dictionary."
   ]
  },
  {
   "cell_type": "markdown",
   "id": "e5d51bcb",
   "metadata": {},
   "source": [
    "Q68. What are loops in Python?\n",
    "\n",
    "A68. Loops are used the iterate over a block of statement multiple times as long as some condition is met."
   ]
  },
  {
   "cell_type": "markdown",
   "id": "674b0cfc",
   "metadata": {},
   "source": [
    "Q69. How many type of loop are there in Python?\n",
    "\n",
    "A69. There are two types of loops in python, for loop and while loop."
   ]
  },
  {
   "cell_type": "markdown",
   "id": "b667b986",
   "metadata": {},
   "source": [
    "Q70. What is the difference between for and while loops?\n",
    "\n",
    "A70. for loop is used to iterate over a sequence of items. While loop is used to repeatedly execute a block of statements while a condition is true. "
   ]
  },
  {
   "cell_type": "markdown",
   "id": "908041c4",
   "metadata": {},
   "source": [
    "Q71. What is the use of continue statement?\n",
    "\n",
    "A71. Continue Statement skips the execution of the program after it is encountered and starts the next iteration."
   ]
  },
  {
   "cell_type": "markdown",
   "id": "b7f7b45a",
   "metadata": {},
   "source": [
    "Q72. What is the use of break statement?\n",
    "\n",
    "A72. break statement in Python is used to bring the control out of a loop."
   ]
  },
  {
   "cell_type": "markdown",
   "id": "8d541301",
   "metadata": {},
   "source": [
    "Q73. What is the use of pass statement?\n",
    "\n",
    "A73. The pass statement is used as a placeholder. When the pass statement is executed, nothing happens, but you avoid getting an error when empty code is not allowed. Empty code is not allowed in loops, function definitions, class definitions, or in if statements."
   ]
  },
  {
   "cell_type": "markdown",
   "id": "ff33572a",
   "metadata": {},
   "source": [
    "Q74. What is the use of range() function?\n",
    "\n",
    "A74. range() function returns a sequence of numbers in a given range specified by user."
   ]
  },
  {
   "cell_type": "markdown",
   "id": "dcaba09e",
   "metadata": {},
   "source": [
    "Q75. How can you loop over a dictionary?"
   ]
  },
  {
   "cell_type": "code",
   "execution_count": 14,
   "id": "c7cd2959",
   "metadata": {},
   "outputs": [
    {
     "name": "stdout",
     "output_type": "stream",
     "text": [
      "Key: A, value: 50\n",
      "Key: C, value: 100\n",
      "Key: D, value: 200\n"
     ]
    }
   ],
   "source": [
    "# A75. By iterating through the items.\n",
    "\n",
    "X = {\"A\":50, \"C\": 100, \"D\":200}\n",
    "for i, j in X.items():\n",
    "    print(f\"Key: {i}, value: {j}\")"
   ]
  },
  {
   "cell_type": "markdown",
   "id": "edeadda4",
   "metadata": {},
   "source": [
    "### Coding problems"
   ]
  },
  {
   "cell_type": "code",
   "execution_count": 23,
   "id": "ce3b9c5a",
   "metadata": {},
   "outputs": [
    {
     "name": "stdout",
     "output_type": "stream",
     "text": [
      "Enter a number 5\n",
      "120\n"
     ]
    }
   ],
   "source": [
    "# Q76. Write a Python program to find the factorial of a given number.\n",
    "\n",
    "# A76.\n",
    "x= int(input('Enter a number '))\n",
    "out=1\n",
    "for i in range(1,x+1):\n",
    "    out= out*i\n",
    "print(out)"
   ]
  },
  {
   "cell_type": "code",
   "execution_count": 27,
   "id": "0e958b06",
   "metadata": {},
   "outputs": [
    {
     "name": "stdout",
     "output_type": "stream",
     "text": [
      "Enter p,t,r seperated by comma:1000,2,5\n",
      "SI:  100.0\n"
     ]
    }
   ],
   "source": [
    "# Q77. Write a Python program to calculate the simple interest. Formula to calculate simple interest is SI = (P*R*T)/100\n",
    "\n",
    "#A77.\n",
    "p,t,r= input(\"Enter p,t,r seperated by comma:\").split(\",\")\n",
    "si= (int(p)*int(t)*int(r))/100\n",
    "print(\"SI: \", si)"
   ]
  },
  {
   "cell_type": "code",
   "execution_count": 29,
   "id": "369cb151",
   "metadata": {},
   "outputs": [
    {
     "name": "stdout",
     "output_type": "stream",
     "text": [
      "Enter p,t,r seperated by comma:1000,2,5\n",
      "CI:  102.5\n"
     ]
    }
   ],
   "source": [
    "# Q78. Write a Python program to calculate the compound interest. Formula of compound interest is A = P(1+ R/100)^t.\n",
    "\n",
    "# A78.\n",
    "p,t,r= input(\"Enter p,t,r seperated by comma:\").split(\",\")\n",
    "A= int(p)*(1+ int(r)/100)**int(t)\n",
    "ci= A- int(p)\n",
    "print(\"CI: \", ci)"
   ]
  },
  {
   "cell_type": "code",
   "execution_count": 47,
   "id": "28d68629",
   "metadata": {},
   "outputs": [
    {
     "name": "stdout",
     "output_type": "stream",
     "text": [
      "2 Is Prime\n"
     ]
    }
   ],
   "source": [
    "# Q79. Write a Python program to check if a number is prime or not.\n",
    "\n",
    "# A79.\n",
    "n= 2\n",
    "tmp= 0\n",
    "if n > 1:\n",
    "    for i in range(2, n//2+1):\n",
    "        if (n% i) == 0:\n",
    "            print(f\"{n} Not Prime\")\n",
    "            tmp=1\n",
    "            break\n",
    "    if tmp == 0:        \n",
    "        print(f\"{n} Is Prime\")\n",
    "else:\n",
    "    print(f\"{n} Not Prime\")"
   ]
  },
  {
   "cell_type": "code",
   "execution_count": 50,
   "id": "c1d15e13",
   "metadata": {},
   "outputs": [
    {
     "name": "stdout",
     "output_type": "stream",
     "text": [
      "Is Armstrong\n"
     ]
    }
   ],
   "source": [
    "# Q80. Write a Python program to check Armstrong Number.\n",
    "\n",
    "# A80.\n",
    "num= 153\n",
    "n= num\n",
    "res=0\n",
    "while num != 0:\n",
    "    x= num % 10\n",
    "    res= res+ x**3\n",
    "    num= num//10\n",
    "if res== n:\n",
    "    print(\"Is Armstrong\")\n",
    "else:\n",
    "    print(\"Not Armstrong\")"
   ]
  },
  {
   "cell_type": "code",
   "execution_count": 51,
   "id": "541e28a7",
   "metadata": {},
   "outputs": [
    {
     "name": "stdout",
     "output_type": "stream",
     "text": [
      "8\n"
     ]
    }
   ],
   "source": [
    "# Q81. Write a Python program to find the n-th Fibonacci Number.\n",
    "\n",
    "# A81.\n",
    "def Fibonacci(n):\n",
    "    if n<= 0:\n",
    "        print(\"Incorrect input\")\n",
    "    elif n == 1:\n",
    "        return 0\n",
    "    elif n == 2:\n",
    "        return 1\n",
    "    else:\n",
    "        return Fibonacci(n-1)+Fibonacci(n-2)\n",
    "\n",
    "print(Fibonacci(7))"
   ]
  },
  {
   "cell_type": "code",
   "execution_count": 52,
   "id": "0b9ac66c",
   "metadata": {},
   "outputs": [
    {
     "name": "stdout",
     "output_type": "stream",
     "text": [
      "[55, 5, 7, 8, 32, 1, 45, 4]\n"
     ]
    }
   ],
   "source": [
    "# Q82. Write a Python program to interchange the first and last element in a list.\n",
    "\n",
    "# A82.\n",
    "def swap(list1):\n",
    "    temp= list1[0]\n",
    "    list1[0]= list1[-1]\n",
    "    list1[-1]= temp\n",
    "    return list1\n",
    "\n",
    "list1= [4,5,7,8,32,1,45,55]\n",
    "print(swap(list1))"
   ]
  },
  {
   "cell_type": "code",
   "execution_count": 53,
   "id": "28e36d36",
   "metadata": {},
   "outputs": [
    {
     "name": "stdout",
     "output_type": "stream",
     "text": [
      "[4, 5, 7, 45, 32, 1, 8, 55]\n"
     ]
    }
   ],
   "source": [
    "# Q83. Write a Python program to swap two elements in a list.\n",
    "\n",
    "# A83.\n",
    "def swap(list1, pos1, pos2):\n",
    "    temp= list1[pos1]\n",
    "    list1[pos1]= list1[pos2]\n",
    "    list1[pos2]= temp\n",
    "    return list1\n",
    "\n",
    "list1= [4,5,7,8,32,1,45,55]\n",
    "print(swap(list1, 3,6))"
   ]
  },
  {
   "cell_type": "code",
   "execution_count": 55,
   "id": "38af30bf",
   "metadata": {},
   "outputs": [
    {
     "name": "stdout",
     "output_type": "stream",
     "text": [
      "[45, 22, 12]\n"
     ]
    }
   ],
   "source": [
    "# Q84. Write a Python program to find N largest element from a list.\n",
    "\n",
    "# A84.\n",
    "def n_largest(list1, n):\n",
    "    out=[]\n",
    "    while len(out) != n:\n",
    "        maxx= 0\n",
    "        for j in range(len(list1)):\n",
    "            if list1[j]> maxx:\n",
    "                maxx= list1[j]\n",
    "        list1.remove(maxx)\n",
    "        out.append(maxx)\n",
    "    print(out)\n",
    "\n",
    "l=[3,6,9,45,22,12,1]\n",
    "n_largest(l,3)"
   ]
  },
  {
   "cell_type": "code",
   "execution_count": 58,
   "id": "94e32ae5",
   "metadata": {},
   "outputs": [
    {
     "data": {
      "text/plain": [
       "[4, 14, 29, 47, 67]"
      ]
     },
     "execution_count": 58,
     "metadata": {},
     "output_type": "execute_result"
    }
   ],
   "source": [
    "# Q85. Write a Python program to find cumulative sum of a list.\n",
    "\n",
    "# A85.\n",
    "l= [4, 10, 15, 18, 20]\n",
    "out=[]\n",
    "tmp=0\n",
    "for i in range(len(l)):\n",
    "    out.append(l[i]+ tmp)\n",
    "    tmp= out[i]\n",
    "out"
   ]
  },
  {
   "cell_type": "code",
   "execution_count": 2,
   "id": "f3003f58",
   "metadata": {},
   "outputs": [
    {
     "data": {
      "text/plain": [
       "'Is Palindrome'"
      ]
     },
     "execution_count": 2,
     "metadata": {},
     "output_type": "execute_result"
    }
   ],
   "source": [
    "# Q86. Write a Python program to check if a string is palindrome or not.\n",
    "\n",
    "# A86.\n",
    "def isPalindrome(str):\n",
    "    for i in range(0, int(len(str)/2)):\n",
    "        if str[i] != str[len(str)-i-1]:\n",
    "            return \"Not Palindrome\"\n",
    "    return \"Is Palindrome\"\n",
    "isPalindrome(\"begeb\")"
   ]
  },
  {
   "cell_type": "code",
   "execution_count": 4,
   "id": "c3f3c9b9",
   "metadata": {},
   "outputs": [
    {
     "data": {
      "text/plain": [
       "'Computes'"
      ]
     },
     "execution_count": 4,
     "metadata": {},
     "output_type": "execute_result"
    }
   ],
   "source": [
    "# Q87. Write a Python program to remove i'th element from a string.\n",
    "\n",
    "# A87.\n",
    "def remove(string, i):\n",
    "    a = string[: i]\n",
    "    b = string[i + 1:]\n",
    "    return a + b\n",
    "remove(\"Computers\",7)"
   ]
  },
  {
   "cell_type": "code",
   "execution_count": 7,
   "id": "3f7d3d6b",
   "metadata": {},
   "outputs": [
    {
     "name": "stdout",
     "output_type": "stream",
     "text": [
      "Present in the string\n"
     ]
    }
   ],
   "source": [
    "# Q88. Write a Python program to check if a substring is present in a given string.\n",
    "\n",
    "# A88.\n",
    "string = \"Learning data engineering\"\n",
    "if \"data\" in string:\n",
    "    print(\"Present in the string\")\n",
    "else:\n",
    "    print(\"Not present\")"
   ]
  },
  {
   "cell_type": "code",
   "execution_count": 8,
   "id": "744d6caa",
   "metadata": {},
   "outputs": [
    {
     "name": "stdout",
     "output_type": "stream",
     "text": [
      "['Learn', 'Engineering']\n"
     ]
    }
   ],
   "source": [
    "# Q89. Write a Python program to find words which are greater than given length k.\n",
    "\n",
    "# A89.\n",
    "def findw(string,k):\n",
    "    out=[]\n",
    "    for w in string.split(' '):\n",
    "        if len(w)> k:\n",
    "            out.append(w)\n",
    "    return out\n",
    "print(findw(\"Learn Data Engineering and big data\",4))"
   ]
  },
  {
   "cell_type": "code",
   "execution_count": 24,
   "id": "a6c1844a",
   "metadata": {},
   "outputs": [
    {
     "data": {
      "text/plain": [
       "{2, 3, 4, 5, 6, 7, 8, 9, 11, 12, 14, 23}"
      ]
     },
     "execution_count": 24,
     "metadata": {},
     "output_type": "execute_result"
    }
   ],
   "source": [
    "# Q90. Write a Python program to extract unquire dictionary values.\n",
    "\n",
    "# A90.\n",
    "dict1 = {'A': [3,4,5,6,7,8],'B': [9,11,12,4,5],'C': [2,3,6,9,14,23]}\n",
    "out=set()\n",
    "for v in dict1.values():\n",
    "    for i in v:\n",
    "        out.add(i)\n",
    "out"
   ]
  },
  {
   "cell_type": "code",
   "execution_count": 32,
   "id": "d7c915b0",
   "metadata": {},
   "outputs": [
    {
     "name": "stdout",
     "output_type": "stream",
     "text": [
      "{'a': 5, 'b': 10, 'c': 15, 'd': 20}\n"
     ]
    }
   ],
   "source": [
    "# Q91. Write a Python program to merge two dictionary.\n",
    "\n",
    "# A91.\n",
    "dict1 = {'a': 5, 'b': 10}\n",
    "dict2 = {'c': 15, 'd': 20}\n",
    "\n",
    "dict3= dict1 | dict2\n",
    "print(dict3)"
   ]
  },
  {
   "cell_type": "code",
   "execution_count": 33,
   "id": "d830a8f7",
   "metadata": {},
   "outputs": [
    {
     "data": {
      "text/plain": [
       "{'Sachin': 10, 'MSD': 7, 'Kohli': 18, 'Rohit': 45}"
      ]
     },
     "execution_count": 33,
     "metadata": {},
     "output_type": "execute_result"
    }
   ],
   "source": [
    "# Q92. Write a Python program to convert a list of tuples into dictionary.\n",
    "# ```\n",
    "# Input : [('Sachin', 10), ('MSD', 7), ('Kohli', 18), ('Rohit', 45)]\n",
    "# Output : {'Sachin': 10, 'MSD': 7, 'Kohli': 18, 'Rohit': 45}\n",
    "# ```\n",
    "\n",
    "# A92.\n",
    "Input = [('Sachin', 10), ('MSD', 7), ('Kohli', 18), ('Rohit', 45)]\n",
    "out= dict(Input)\n",
    "out"
   ]
  },
  {
   "cell_type": "code",
   "execution_count": 34,
   "id": "4c4015ae",
   "metadata": {},
   "outputs": [
    {
     "data": {
      "text/plain": [
       "[(9, 729), (5, 125), (6, 216)]"
      ]
     },
     "execution_count": 34,
     "metadata": {},
     "output_type": "execute_result"
    }
   ],
   "source": [
    "# Q93. Write a Python program to create a list of tuples from given list having number and its cube in each tuple.\n",
    "# ```\n",
    "# Input: list = [9, 5, 6]\n",
    "# Output: [(9, 729), (5, 125), (6, 216)]\n",
    "# ```\n",
    "\n",
    "# A93.\n",
    "inp= [9, 5, 6]\n",
    "out= [(i,i**3) for i in inp]\n",
    "out"
   ]
  },
  {
   "cell_type": "code",
   "execution_count": 36,
   "id": "c0f4181b",
   "metadata": {},
   "outputs": [
    {
     "data": {
      "text/plain": [
       "[(7, 7), (7, 7), (7, 8), (8, 7), (2, 7), (7, 2), (2, 8), (8, 2)]"
      ]
     },
     "execution_count": 36,
     "metadata": {},
     "output_type": "execute_result"
    }
   ],
   "source": [
    "# Q94. Write a Python program to get all combinations of 2 tuples.\n",
    "# ```\n",
    "# Input : test_tuple1 = (7, 2), test_tuple2 = (7, 8)\n",
    "# Output : [(7, 7), (7, 8), (2, 7), (2, 8), (7, 7), (7, 2), (8, 7), (8, 2)]\n",
    "# ```\n",
    "\n",
    "# A94.\n",
    "test_tuple1 = (7, 2)\n",
    "test_tuple2 = (7, 8)\n",
    "l=[]\n",
    "for i in test_tuple1:\n",
    "    for j in test_tuple2:\n",
    "        l.append((i,j))\n",
    "        l.append((j,i))\n",
    "l"
   ]
  },
  {
   "cell_type": "code",
   "execution_count": 40,
   "id": "935a451a",
   "metadata": {},
   "outputs": [
    {
     "data": {
      "text/plain": [
       "[('Geeks', 8), ('for', 24), ('Geeks', 30)]"
      ]
     },
     "execution_count": 40,
     "metadata": {},
     "output_type": "execute_result"
    }
   ],
   "source": [
    "# Q95. Write a Python program to sort a list of tuples by second item.\n",
    "# ```\n",
    "# Input : [('for', 24), ('Geeks', 8), ('Geeks', 30)] \n",
    "# Output : [('Geeks', 8), ('for', 24), ('Geeks', 30)]\n",
    "# ```\n",
    "\n",
    "# A95.\n",
    "inp= [('for', 24), ('Geeks', 8), ('Geeks', 30)] \n",
    "for t in range(len(inp)-1):\n",
    "    if inp[t][1] > inp[t+1][1]:\n",
    "        tmp= inp[t]\n",
    "        inp[t]= inp[t+1]\n",
    "        inp[t+1]= tmp\n",
    "inp"
   ]
  },
  {
   "cell_type": "code",
   "execution_count": 71,
   "id": "345f1efb",
   "metadata": {},
   "outputs": [
    {
     "name": "stdout",
     "output_type": "stream",
     "text": [
      "\r\n",
      "* \r\n",
      "* * \r\n",
      "* * * \r\n",
      "* * * * \r\n",
      "* * * * * \r\n"
     ]
    }
   ],
   "source": [
    "# Q96. Write a python program to print below pattern.\n",
    "# ```\n",
    "# * \n",
    "# * * \n",
    "# * * * \n",
    "# * * * * \n",
    "# * * * * * \n",
    "# ```\n",
    "\n",
    "# A96.\n",
    "for i in range(6):\n",
    "    print('* '*i+'\\r')"
   ]
  },
  {
   "cell_type": "code",
   "execution_count": 72,
   "id": "794c012a",
   "metadata": {},
   "outputs": [
    {
     "name": "stdout",
     "output_type": "stream",
     "text": [
      "      \r\n",
      "     *\r\n",
      "    **\r\n",
      "   ***\r\n",
      "  ****\r\n",
      " *****\r\n"
     ]
    }
   ],
   "source": [
    "# Q97. Write a python program to print below pattern.\n",
    "# ```\n",
    "#     *\n",
    "#    **\n",
    "#   ***\n",
    "#  ****\n",
    "# *****\n",
    "# ```\n",
    "\n",
    "# A97.\n",
    "n= 6\n",
    "for i in range(n,0,-1):\n",
    "    print(' '*i+'*'*(n-i)+'\\r')"
   ]
  },
  {
   "cell_type": "code",
   "execution_count": 73,
   "id": "ccf2b86f",
   "metadata": {},
   "outputs": [
    {
     "name": "stdout",
     "output_type": "stream",
     "text": [
      "     \r\n",
      "    * \r\n",
      "   * * \r\n",
      "  * * * \r\n",
      " * * * * \r\n",
      "* * * * * \r\n"
     ]
    }
   ],
   "source": [
    "# Q98. Write a python program to print below pattern.\n",
    "# ```\n",
    "#     * \n",
    "#    * * \n",
    "#   * * * \n",
    "#  * * * * \n",
    "# * * * * * \n",
    "# ```\n",
    "\n",
    "# A98.\n",
    "n= 6\n",
    "for i in range(n,0,-1):\n",
    "    print(' '*(i-1)+'* '*(n-i)+'\\r')"
   ]
  },
  {
   "cell_type": "code",
   "execution_count": 110,
   "id": "bc10f034",
   "metadata": {},
   "outputs": [
    {
     "name": "stdout",
     "output_type": "stream",
     "text": [
      "1 \r\n",
      "1 2 \r\n",
      "1 2 3 \r\n",
      "1 2 3 4 \r\n",
      "1 2 3 4 5 \r\n"
     ]
    }
   ],
   "source": [
    "# Q99. Write a python program to print below pattern.\n",
    "# ```\n",
    "# 1 \n",
    "# 1 2 \n",
    "# 1 2 3 \n",
    "# 1 2 3 4 \n",
    "# 1 2 3 4 5\n",
    "# ```\n",
    "\n",
    "# A99.\n",
    "n= 5\n",
    "for i in range(n):\n",
    "    num= 1\n",
    "    for j in range(i+1):\n",
    "        print(num, end=' ')\n",
    "        num+=1\n",
    "    print('\\r')"
   ]
  },
  {
   "cell_type": "code",
   "execution_count": 117,
   "id": "8e7a326d",
   "metadata": {},
   "outputs": [
    {
     "name": "stdout",
     "output_type": "stream",
     "text": [
      "A \r\n",
      "B B \r\n",
      "C C C \r\n",
      "D D D D \r\n",
      "E E E E E \r\n"
     ]
    }
   ],
   "source": [
    "# Q100. Write a python program to print below pattern.\n",
    "# ```\n",
    "# A \n",
    "# B B \n",
    "# C C C \n",
    "# D D D D \n",
    "# E E E E E \n",
    "# ```\n",
    "\n",
    "# A100.\n",
    "n= 5\n",
    "c= 65\n",
    "for i in range(n):\n",
    "    for j in range(i+1):\n",
    "        print(chr(c), end=' ')\n",
    "    c+=1\n",
    "    print('\\r')"
   ]
  },
  {
   "cell_type": "code",
   "execution_count": null,
   "id": "064182ff",
   "metadata": {},
   "outputs": [],
   "source": []
  }
 ],
 "metadata": {
  "kernelspec": {
   "display_name": "Python 3 (ipykernel)",
   "language": "python",
   "name": "python3"
  },
  "language_info": {
   "codemirror_mode": {
    "name": "ipython",
    "version": 3
   },
   "file_extension": ".py",
   "mimetype": "text/x-python",
   "name": "python",
   "nbconvert_exporter": "python",
   "pygments_lexer": "ipython3",
   "version": "3.10.9"
  }
 },
 "nbformat": 4,
 "nbformat_minor": 5
}
